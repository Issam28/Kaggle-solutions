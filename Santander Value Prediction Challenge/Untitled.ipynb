{
 "cells": [
  {
   "cell_type": "code",
   "execution_count": null,
   "metadata": {},
   "outputs": [],
   "source": [
    "import numpy as np\n",
    "import pandas as pd\n",
    "import xgboost as xgb\n",
    "\n",
    "\n",
    "train = pd.read_csv(\"train.csv\")\n"
   ]
  },
  {
   "cell_type": "code",
   "execution_count": null,
   "metadata": {},
   "outputs": [],
   "source": [
    "def create_feature_map(fmap_filename, features):\n",
    "    outfile = open(fmap_filename, 'w')\n",
    "    for i, feat in enumerate(features):\n",
    "        outfile.write('{0}\\t{1}\\tq\\n'.format(i, feat))\n",
    "    outfile.close()\n",
    "    \n",
    "\n",
    "y_train = train.target.values\n",
    "\n",
    "\n",
    "x_train = train.drop([\"ID\", \"target\"], axis=1)\n",
    "\n",
    "create_feature_map('xgb.fmap', x_train)\n"
   ]
  },
  {
   "cell_type": "code",
   "execution_count": null,
   "metadata": {},
   "outputs": [],
   "source": [
    "params = {\n",
    "            \"colsample_bytree\": 0.8,\n",
    "            \"subsample\": 0.75,\n",
    "            \"max_depth\": 6,\n",
    "            \"min_child_weight\": 6,\n",
    "            #\"scale_pos_weight\":21694/573518,\n",
    "            \"eta\": 0.01,\n",
    "            \"objective\": \"reg:linear\",\n",
    "            \"eval_metric\": \"rmse\",\n",
    "            \"booster\": \"gbtree\",\n",
    "            \"silent\":True\n",
    "}\n",
    "\n",
    "   \n",
    "d_train=xgb.DMatrix(x_train, y_train)\n",
    "\n",
    "\n",
    "mdl = xgb.train(params, d_train, 1200)\n",
    "mdl.dump_model('xgb.dump',fmap='xgb.fmap', with_stats=True)"
   ]
  }
 ],
 "metadata": {
  "kernelspec": {
   "display_name": "Python 3",
   "language": "python",
   "name": "python3"
  },
  "language_info": {
   "codemirror_mode": {
    "name": "ipython",
    "version": 3
   },
   "file_extension": ".py",
   "mimetype": "text/x-python",
   "name": "python",
   "nbconvert_exporter": "python",
   "pygments_lexer": "ipython3",
   "version": "3.5.0"
  }
 },
 "nbformat": 4,
 "nbformat_minor": 2
}
